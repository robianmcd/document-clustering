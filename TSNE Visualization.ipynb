{
 "cells": [
  {
   "cell_type": "code",
   "execution_count": 9,
   "metadata": {},
   "outputs": [],
   "source": [
    "## Importing required Libraries\n",
    "import os\n",
    "import tensorflow as tf\n",
    "from tensorflow.contrib.tensorboard.plugins import projector\n",
    "import numpy as np\n",
    "import pandas as pd\n",
    "from sklearn.preprocessing import StandardScaler\n",
    "from sklearn.decomposition import PCA\n",
    "## Get working directory\n",
    "PATH = os.getcwd()\n",
    "\n",
    "## Path to save the embedding and checkpoints generated\n",
    "LOG_DIR = PATH + '/tensorboard'\n",
    "## Load data\n",
    "df = pd.read_csv(\"doc_vectors.csv\")\n",
    "## Load the metadata file. Metadata consists your labels. This is optional. Metadata helps us visualize(color) different clusters that form t-SNE\n",
    "metadata = os.path.join(PATH, 'docs.tsv')\n",
    "# Generating PCA and \n",
    "pca = PCA(n_components=50,\n",
    "         random_state = 123,\n",
    "         svd_solver = 'auto'\n",
    "         )\n",
    "df_pca = pd.DataFrame(pca.fit_transform(df))\n",
    "df_pca = df_pca.values\n",
    "## TensorFlow Variable from data\n",
    "# tf_data = tf.Variable(df_pca)\n",
    "tf_data = tf.Variable(df)\n",
    "## Running TensorFlow Session\n",
    "with tf.Session() as sess:\n",
    "    saver = tf.train.Saver([tf_data])\n",
    "    sess.run(tf_data.initializer)\n",
    "    saver.save(sess, os.path.join(LOG_DIR, 'tf_data.ckpt'))\n",
    "    config = projector.ProjectorConfig()\n",
    "# One can add multiple embeddings.\n",
    "    embedding = config.embeddings.add()\n",
    "    embedding.tensor_name = tf_data.name\n",
    "    # Link this tensor to its metadata(Labels) file\n",
    "    embedding.metadata_path = metadata\n",
    "    # Saves a config file that TensorBoard will read during startup.\n",
    "    projector.visualize_embeddings(tf.summary.FileWriter(LOG_DIR), config)"
   ]
  }
 ],
 "metadata": {
  "kernelspec": {
   "display_name": "Python 3",
   "language": "python",
   "name": "python3"
  },
  "language_info": {
   "codemirror_mode": {
    "name": "ipython",
    "version": 3
   },
   "file_extension": ".py",
   "mimetype": "text/x-python",
   "name": "python",
   "nbconvert_exporter": "python",
   "pygments_lexer": "ipython3",
   "version": "3.6.4"
  }
 },
 "nbformat": 4,
 "nbformat_minor": 2
}
